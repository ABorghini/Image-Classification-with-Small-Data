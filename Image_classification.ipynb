{
  "cells": [
    {
      "cell_type": "markdown",
      "metadata": {
        "id": "JYaJAowdt7Yy"
      },
      "source": [
        "# Mount Google Drive to Google Colab"
      ]
    },
    {
      "cell_type": "code",
      "execution_count": null,
      "metadata": {
        "colab": {
          "base_uri": "https://localhost:8080/"
        },
        "id": "pRf7kqcet_TX",
        "outputId": "f9e14a1b-f9ea-4192-e31c-7f4aa434d10b"
      },
      "outputs": [
        {
          "output_type": "stream",
          "name": "stdout",
          "text": [
            "Mounted at /content/drive\n"
          ]
        }
      ],
      "source": [
        "# Mount Google Drive\n",
        "from google.colab import drive \n",
        "\n",
        "drive.mount(\"/content/drive\")"
      ]
    },
    {
      "cell_type": "markdown",
      "metadata": {
        "id": "H5wnyIMquIg8"
      },
      "source": [
        "# Run some code from the repository"
      ]
    },
    {
      "cell_type": "markdown",
      "metadata": {
        "id": "zfh0sg8GuNfj"
      },
      "source": [
        "Move to directory of the code, for my specific case ./drive/MyDrive/H1/sapienza_ml21_deic"
      ]
    },
    {
      "cell_type": "code",
      "execution_count": null,
      "metadata": {
        "colab": {
          "base_uri": "https://localhost:8080/"
        },
        "id": "5f14T4EWuMy0",
        "outputId": "33913c54-e2cd-4bee-955b-05b831d48e70"
      },
      "outputs": [
        {
          "output_type": "stream",
          "name": "stdout",
          "text": [
            "/content/drive/.shortcut-targets-by-id/1kb65ixHavBtNtvcAJo-g8JhLDvjSrVO8/Homework2/sapienza_ml21_deic\n",
            "datasets       graphic.png  requirements.txt  small_data\n",
            "graphicaa.png  README.md    scripts\n"
          ]
        }
      ],
      "source": [
        "# !mkdir drive/MyDrive/Homework2\n",
        "%cd ./drive/MyDrive/Homework2/sapienza_ml21_deic/\n",
        "! ls\n",
        "\n",
        "# !git clone https://github.com/lorenzobrigato/sapienza_ml21_deic.git"
      ]
    },
    {
      "cell_type": "markdown",
      "metadata": {
        "id": "2sjheMcOyang"
      },
      "source": [
        "Install required packages that are provided in `requirements.txt` file"
      ]
    },
    {
      "cell_type": "code",
      "execution_count": null,
      "metadata": {
        "colab": {
          "base_uri": "https://localhost:8080/"
        },
        "id": "zPekiiVpykNn",
        "outputId": "cfd48acc-54ce-49e3-ba17-ba4d7f2127cb"
      },
      "outputs": [
        {
          "output_type": "stream",
          "name": "stdout",
          "text": [
            "Requirement already satisfied: numpy in /usr/local/lib/python3.7/dist-packages (from -r requirements.txt (line 1)) (1.19.5)\n",
            "Requirement already satisfied: scipy in /usr/local/lib/python3.7/dist-packages (from -r requirements.txt (line 2)) (1.4.1)\n",
            "Requirement already satisfied: pillow in /usr/local/lib/python3.7/dist-packages (from -r requirements.txt (line 3)) (7.1.2)\n",
            "Requirement already satisfied: torch>=1.7 in /usr/local/lib/python3.7/dist-packages (from -r requirements.txt (line 4)) (1.10.0+cu111)\n",
            "Requirement already satisfied: torchvision>=0.8 in /usr/local/lib/python3.7/dist-packages (from -r requirements.txt (line 5)) (0.11.1+cu111)\n",
            "Collecting ray[tune]>=1.1\n",
            "  Downloading ray-1.9.1-cp37-cp37m-manylinux2014_x86_64.whl (57.6 MB)\n",
            "\u001b[K     |████████████████████████████████| 57.6 MB 1.3 MB/s \n",
            "\u001b[?25hRequirement already satisfied: matplotlib in /usr/local/lib/python3.7/dist-packages (from -r requirements.txt (line 7)) (3.2.2)\n",
            "Requirement already satisfied: tqdm in /usr/local/lib/python3.7/dist-packages (from -r requirements.txt (line 8)) (4.62.3)\n",
            "Requirement already satisfied: tifffile in /usr/local/lib/python3.7/dist-packages (from -r requirements.txt (line 9)) (2021.11.2)\n",
            "Requirement already satisfied: typing-extensions in /usr/local/lib/python3.7/dist-packages (from torch>=1.7->-r requirements.txt (line 4)) (3.10.0.2)\n",
            "Requirement already satisfied: pyyaml in /usr/local/lib/python3.7/dist-packages (from ray[tune]>=1.1->-r requirements.txt (line 6)) (3.13)\n",
            "Requirement already satisfied: click>=7.0 in /usr/local/lib/python3.7/dist-packages (from ray[tune]>=1.1->-r requirements.txt (line 6)) (7.1.2)\n",
            "Requirement already satisfied: grpcio>=1.28.1 in /usr/local/lib/python3.7/dist-packages (from ray[tune]>=1.1->-r requirements.txt (line 6)) (1.42.0)\n",
            "Requirement already satisfied: attrs in /usr/local/lib/python3.7/dist-packages (from ray[tune]>=1.1->-r requirements.txt (line 6)) (21.2.0)\n",
            "Requirement already satisfied: msgpack<2.0.0,>=1.0.0 in /usr/local/lib/python3.7/dist-packages (from ray[tune]>=1.1->-r requirements.txt (line 6)) (1.0.3)\n",
            "Requirement already satisfied: protobuf>=3.15.3 in /usr/local/lib/python3.7/dist-packages (from ray[tune]>=1.1->-r requirements.txt (line 6)) (3.17.3)\n",
            "Collecting redis>=3.5.0\n",
            "  Downloading redis-4.0.2-py3-none-any.whl (119 kB)\n",
            "\u001b[K     |████████████████████████████████| 119 kB 47.7 MB/s \n",
            "\u001b[?25hRequirement already satisfied: jsonschema in /usr/local/lib/python3.7/dist-packages (from ray[tune]>=1.1->-r requirements.txt (line 6)) (2.6.0)\n",
            "Requirement already satisfied: filelock in /usr/local/lib/python3.7/dist-packages (from ray[tune]>=1.1->-r requirements.txt (line 6)) (3.4.0)\n",
            "Collecting tensorboardX>=1.9\n",
            "  Downloading tensorboardX-2.4.1-py2.py3-none-any.whl (124 kB)\n",
            "\u001b[K     |████████████████████████████████| 124 kB 48.3 MB/s \n",
            "\u001b[?25hRequirement already satisfied: requests in /usr/local/lib/python3.7/dist-packages (from ray[tune]>=1.1->-r requirements.txt (line 6)) (2.23.0)\n",
            "Requirement already satisfied: pandas in /usr/local/lib/python3.7/dist-packages (from ray[tune]>=1.1->-r requirements.txt (line 6)) (1.1.5)\n",
            "Requirement already satisfied: tabulate in /usr/local/lib/python3.7/dist-packages (from ray[tune]>=1.1->-r requirements.txt (line 6)) (0.8.9)\n",
            "Requirement already satisfied: six>=1.5.2 in /usr/local/lib/python3.7/dist-packages (from grpcio>=1.28.1->ray[tune]>=1.1->-r requirements.txt (line 6)) (1.15.0)\n",
            "Collecting deprecated\n",
            "  Downloading Deprecated-1.2.13-py2.py3-none-any.whl (9.6 kB)\n",
            "Requirement already satisfied: python-dateutil>=2.1 in /usr/local/lib/python3.7/dist-packages (from matplotlib->-r requirements.txt (line 7)) (2.8.2)\n",
            "Requirement already satisfied: kiwisolver>=1.0.1 in /usr/local/lib/python3.7/dist-packages (from matplotlib->-r requirements.txt (line 7)) (1.3.2)\n",
            "Requirement already satisfied: pyparsing!=2.0.4,!=2.1.2,!=2.1.6,>=2.0.1 in /usr/local/lib/python3.7/dist-packages (from matplotlib->-r requirements.txt (line 7)) (3.0.6)\n",
            "Requirement already satisfied: cycler>=0.10 in /usr/local/lib/python3.7/dist-packages (from matplotlib->-r requirements.txt (line 7)) (0.11.0)\n",
            "Requirement already satisfied: wrapt<2,>=1.10 in /usr/local/lib/python3.7/dist-packages (from deprecated->redis>=3.5.0->ray[tune]>=1.1->-r requirements.txt (line 6)) (1.13.3)\n",
            "Requirement already satisfied: pytz>=2017.2 in /usr/local/lib/python3.7/dist-packages (from pandas->ray[tune]>=1.1->-r requirements.txt (line 6)) (2018.9)\n",
            "Requirement already satisfied: certifi>=2017.4.17 in /usr/local/lib/python3.7/dist-packages (from requests->ray[tune]>=1.1->-r requirements.txt (line 6)) (2021.10.8)\n",
            "Requirement already satisfied: idna<3,>=2.5 in /usr/local/lib/python3.7/dist-packages (from requests->ray[tune]>=1.1->-r requirements.txt (line 6)) (2.10)\n",
            "Requirement already satisfied: chardet<4,>=3.0.2 in /usr/local/lib/python3.7/dist-packages (from requests->ray[tune]>=1.1->-r requirements.txt (line 6)) (3.0.4)\n",
            "Requirement already satisfied: urllib3!=1.25.0,!=1.25.1,<1.26,>=1.21.1 in /usr/local/lib/python3.7/dist-packages (from requests->ray[tune]>=1.1->-r requirements.txt (line 6)) (1.24.3)\n",
            "Installing collected packages: deprecated, redis, tensorboardX, ray\n",
            "Successfully installed deprecated-1.2.13 ray-1.9.1 redis-4.0.2 tensorboardX-2.4.1\n"
          ]
        }
      ],
      "source": [
        "!pip install -r requirements.txt"
      ]
    },
    {
      "cell_type": "markdown",
      "metadata": {
        "id": "3a8_KXIpumPL"
      },
      "source": [
        "Run your network training with any script located in the subfolder `scripts`.\n",
        "\n",
        "In this example, I am running ResNet-20 on the dataset by:\n",
        "\n",
        "1.   Calling the script `train.py` which is located in the subdirectory `scripts`\n",
        "2.   Providing valid input arguments to the ArgumentParser defined inside the script\n",
        "\n",
        "Note that help on the possible arguments to provide to the script are available thanks to the default helper function of ArgumentParser by calling the flag ```-h``` like: ```!python scripts/train.py -h```.\n",
        "\n",
        "Here you can see the output for this case.\n"
      ]
    },
    {
      "cell_type": "code",
      "execution_count": null,
      "metadata": {
        "id": "zRwcW1984yuq",
        "colab": {
          "base_uri": "https://localhost:8080/"
        },
        "outputId": "89ec22a4-4433-477c-9e28-1296dcb23210"
      },
      "outputs": [
        {
          "output_type": "stream",
          "name": "stdout",
          "text": [
            "usage: train.py [-h] [--data-root DATA_ROOT] [--img-dir IMG_DIR]\n",
            "                [--train-split TRAIN_SPLIT] [--test-split TEST_SPLIT]\n",
            "                [--method {CrossEntropyClassifier}]\n",
            "                [--architecture ARCHITECTURE] [--init-weights INIT_WEIGHTS]\n",
            "                [--normalize] [--target-size TARGET_SIZE]\n",
            "                [--min-scale MIN_SCALE] [--max-scale MAX_SCALE]\n",
            "                [--rand-shift RAND_SHIFT] [--hflip] [--vflip]\n",
            "                [--epochs EPOCHS] [--batch-size BATCH_SIZE] [--multi-gpu]\n",
            "                [--eval-interval EVAL_INTERVAL] [--load-workers LOAD_WORKERS]\n",
            "                [--lr LR] [--weight-decay WEIGHT_DECAY] [--param NAME VALUE]\n",
            "                [--list-params] [--save SAVE] [--history HISTORY]\n",
            "                {cifair10}\n",
            "\n",
            "Trains a ResNet baseline model on a given dataset.\n",
            "\n",
            "optional arguments:\n",
            "  -h, --help            show this help message and exit\n",
            "\n",
            "Data:\n",
            "  {cifair10}            Name of the dataset.\n",
            "  --data-root DATA_ROOT\n",
            "                        Dataset root directory containing the split files.\n",
            "                        Defaults to \"./datasets/<dataset>\". (default: None)\n",
            "  --img-dir IMG_DIR     The directory containg the images, if different from\n",
            "                        the default. (default: None)\n",
            "  --train-split TRAIN_SPLIT\n",
            "                        File specifying the subset of the data to be used for\n",
            "                        training. (default: trainval)\n",
            "  --test-split TEST_SPLIT\n",
            "                        File specifying the subset of the data to be used for\n",
            "                        evaluation. (default: test)\n",
            "\n",
            "Model:\n",
            "  --method {CrossEntropyClassifier}\n",
            "                        The learning method/pipeline. (default:\n",
            "                        CrossEntropyClassifier)\n",
            "  --architecture ARCHITECTURE\n",
            "                        Network architecture. (default: rn20)\n",
            "  --init-weights INIT_WEIGHTS\n",
            "                        Path to a file containing model weights to be used as\n",
            "                        initialization. (default: None)\n",
            "\n",
            "Augmentation:\n",
            "  --normalize, --no-normalize\n",
            "                        Normalize images using channel mean and standard\n",
            "                        deviation. (default: True)\n",
            "  --target-size TARGET_SIZE\n",
            "                        Target size for resizing and cropping. If not given,\n",
            "                        image size will remain unmodified. (default: None)\n",
            "  --min-scale MIN_SCALE\n",
            "                        Minimum scaling ratio for scale agumentation.\n",
            "                        (default: 1.0)\n",
            "  --max-scale MAX_SCALE\n",
            "                        Maximum scaling ratio for scale agumentation.\n",
            "                        (default: 1.0)\n",
            "  --rand-shift RAND_SHIFT\n",
            "                        Maximum amount of random translation in pixels.\n",
            "                        (default: 0)\n",
            "  --hflip, --no-hflip   Toggle random horizontal flipping on/off. (default:\n",
            "                        True)\n",
            "  --vflip, --no-vflip   Toggle random vertical flipping on/off. (default:\n",
            "                        False)\n",
            "\n",
            "Training:\n",
            "  --epochs EPOCHS       Number of epochs. (default: 200)\n",
            "  --batch-size BATCH_SIZE\n",
            "                        Batch size. (default: 25)\n",
            "  --multi-gpu           Train on all available GPUs in parallel. (default:\n",
            "                        False)\n",
            "  --eval-interval EVAL_INTERVAL\n",
            "                        Number of epochs between evaluation runs. (default: 1)\n",
            "  --load-workers LOAD_WORKERS\n",
            "                        Number of parallel data loading processes. (default:\n",
            "                        8)\n",
            "\n",
            "Method Hyper-Parameters:\n",
            "  --lr LR               Learning rate. (default: 0.01)\n",
            "  --weight-decay WEIGHT_DECAY\n",
            "                        Weight decay. (default: 0.001)\n",
            "  --param NAME VALUE    Name and value of an additional method-specific hyper-\n",
            "                        parameter. May be specified multiple times. (default:\n",
            "                        None)\n",
            "  --list-params         Print a list of additional hyper-parameters supported\n",
            "                        by the given method and exit. (default: False)\n",
            "\n",
            "Output:\n",
            "  --save SAVE           Filename under which the final model weights will be\n",
            "                        stored. (default: None)\n",
            "  --history HISTORY     Path to a CSV or JSON file where metrics for each\n",
            "                        training epoch will be written to. If the filename\n",
            "                        ends on \".json\", the file will also contain the hyper-\n",
            "                        parameters used for training. (default: None)\n"
          ]
        }
      ],
      "source": [
        "!python scripts/train.py -h"
      ]
    },
    {
      "cell_type": "code",
      "execution_count": null,
      "metadata": {
        "id": "oG9uhlRxwTiL",
        "colab": {
          "base_uri": "https://localhost:8080/"
        },
        "outputId": "f70e3074-401a-48b2-a11c-8641aa58523c"
      },
      "outputs": [
        {
          "output_type": "stream",
          "name": "stdout",
          "text": [
            "Method: CrossEntropyClassifier\n",
            "Hyper-parameters: {'normalize': True, 'target_size': 227, 'min_scale': 1.0, 'max_scale': 1.0, 'rand_shift': 4, 'hflip': True, 'vflip': False, 'lr': 0.001, 'weight_decay': 0.01}\n",
            "Files already downloaded and verified\n",
            "Files already downloaded and verified\n",
            "/usr/local/lib/python3.7/dist-packages/torch/utils/data/dataloader.py:481: UserWarning: This DataLoader will create 8 worker processes in total. Our suggested max number of worker in current system is 2, which is smaller than what this DataLoader is going to create. Please be aware that excessive worker creation might get DataLoader running slow or even freeze, lower the worker number to avoid potential slowness/freeze if necessary.\n",
            "  cpuset_checked))\n",
            "['alexnet']\n",
            "  0% 0/3000 [00:00<?, ?it/s]2.302619611263275 2.302619611263275 0.1 0.1\n",
            "  0% 9/3000 [01:12<4:12:32,  5.07s/it, loss=2.3, accuracy=0.102, val_loss=2.3, val_accuracy=0.1, lr=0.001]2.3024896261692045 2.30255461871624 0.1 0.1\n",
            "  1% 19/3000 [02:25<4:01:39,  4.86s/it, loss=2.3, accuracy=0.086, val_loss=2.3, val_accuracy=0.1, lr=0.001]2.302442666530609 2.30251730132103 0.1008 0.10026666666666667\n",
            "  1% 29/3000 [03:42<4:03:50,  4.92s/it, loss=2.3, accuracy=0.092, val_loss=2.3, val_accuracy=0.101, lr=0.001]2.3024444246292113 2.302499082148075 0.1 0.10020000000000001\n",
            "  1% 39/3000 [04:55<4:01:17,  4.89s/it, loss=2.3, accuracy=0.088, val_loss=2.3, val_accuracy=0.1, lr=0.001]2.302456054210663 2.3024904765605925 0.1 0.10016\n",
            "  2% 49/3000 [06:10<4:00:59,  4.90s/it, loss=2.3, accuracy=0.098, val_loss=2.3, val_accuracy=0.1, lr=0.000999]2.3024790542125704 2.3024623651504514 0.1 0.10016\n",
            "  2% 59/3000 [07:23<3:58:57,  4.87s/it, loss=2.3, accuracy=0.082, val_loss=2.3, val_accuracy=0.1, lr=0.000999]2.30249977350235 2.302464394617081 0.1 0.10016\n",
            "  2% 69/3000 [08:37<3:59:36,  4.91s/it, loss=2.3, accuracy=0.09, val_loss=2.3, val_accuracy=0.1, lr=0.000999]2.302519330739975 2.302479727458954 0.1 0.1\n",
            "  3% 79/3000 [09:51<3:57:26,  4.88s/it, loss=2.3, accuracy=0.082, val_loss=2.3, val_accuracy=0.1, lr=0.000998]2.302537239313126 2.3024982903957367 0.1 0.1\n",
            "  3% 89/3000 [11:05<3:56:55,  4.88s/it, loss=2.3, accuracy=0.082, val_loss=2.3, val_accuracy=0.1, lr=0.000998]2.302550801038742 2.3025172397613525 0.1 0.1\n",
            "  3% 99/3000 [12:19<3:55:33,  4.87s/it, loss=2.3, accuracy=0.066, val_loss=2.3, val_accuracy=0.1, lr=0.000997]2.3025599315166474 2.302533415222168 0.1 0.1\n",
            "  4% 109/3000 [13:33<3:54:58,  4.88s/it, loss=2.3, accuracy=0.09, val_loss=2.3, val_accuracy=0.1, lr=0.000997]2.302569427251816 2.3025473459720613 0.1 0.1\n",
            "  4% 119/3000 [14:47<3:55:08,  4.90s/it, loss=2.3, accuracy=0.086, val_loss=2.3, val_accuracy=0.1, lr=0.000996]2.3025737462043763 2.3025582290649416 0.1 0.1\n",
            "  4% 129/3000 [16:01<3:53:34,  4.88s/it, loss=2.3, accuracy=0.094, val_loss=2.3, val_accuracy=0.1, lr=0.000995]2.3025778884887695 2.30256635890007 0.1 0.1\n",
            "  5% 139/3000 [17:14<3:51:47,  4.86s/it, loss=2.3, accuracy=0.088, val_loss=2.3, val_accuracy=0.1, lr=0.000995]2.302580201625824 2.3025722390174868 0.1 0.1\n",
            "  5% 149/3000 [18:29<3:52:26,  4.89s/it, loss=2.3, accuracy=0.082, val_loss=2.3, val_accuracy=0.1, lr=0.000994]2.3025822088718413 2.3025766944885255 0.1 0.1\n",
            "  5% 159/3000 [19:43<3:51:41,  4.89s/it, loss=2.3, accuracy=0.074, val_loss=2.3, val_accuracy=0.1, lr=0.000993]2.3025832335948944 2.302579455757141 0.1 0.1\n",
            "  6% 169/3000 [20:57<3:50:40,  4.89s/it, loss=2.3, accuracy=0.066, val_loss=2.3, val_accuracy=0.1, lr=0.000992]2.3025849280357362 2.3025816921234132 0.1 0.1\n",
            "  6% 179/3000 [22:11<3:49:50,  4.89s/it, loss=2.3, accuracy=0.096, val_loss=2.3, val_accuracy=0.1, lr=0.000991]2.3025855164527895 2.3025832177162173 0.1 0.1\n",
            "  6% 189/3000 [23:24<3:47:36,  4.86s/it, loss=2.3, accuracy=0.054, val_loss=2.3, val_accuracy=0.1, lr=0.00099]2.3025851428508757 2.302584205961227 0.1 0.1\n",
            "  7% 199/3000 [24:38<3:46:35,  4.85s/it, loss=2.3, accuracy=0.06, val_loss=2.3, val_accuracy=0.1, lr=0.000989]2.302585949420929 2.3025849540710452 0.1 0.1\n",
            "  7% 209/3000 [25:52<3:47:57,  4.90s/it, loss=2.3, accuracy=0.06, val_loss=2.3, val_accuracy=0.1, lr=0.000988]2.302586058139801 2.302585518980026 0.1 0.1\n",
            "  7% 219/3000 [27:06<3:46:05,  4.88s/it, loss=2.3, accuracy=0.078, val_loss=2.3, val_accuracy=0.1, lr=0.000987]2.302586210012436 2.3025857753753662 0.1 0.1\n",
            "  8% 229/3000 [28:19<3:45:28,  4.88s/it, loss=2.3, accuracy=0.08, val_loss=2.3, val_accuracy=0.1, lr=0.000986]2.3025853154659273 2.302585735177994 0.1 0.1\n",
            "  8% 239/3000 [29:33<3:44:14,  4.87s/it, loss=2.3, accuracy=0.082, val_loss=2.3, val_accuracy=0.1, lr=0.000984]2.3025861611366274 2.3025859388351444 0.1 0.1\n",
            "  8% 249/3000 [30:47<3:42:27,  4.85s/it, loss=2.3, accuracy=0.076, val_loss=2.3, val_accuracy=0.1, lr=0.000983]2.3025859608650205 2.3025859411239624 0.1 0.1\n",
            "  9% 259/3000 [32:00<3:41:38,  4.85s/it, loss=2.3, accuracy=0.074, val_loss=2.3, val_accuracy=0.1, lr=0.000982]2.3025880913734436 2.302586347770691 0.1 0.1\n",
            "  9% 269/3000 [33:13<3:40:21,  4.84s/it, loss=2.3, accuracy=0.076, val_loss=2.3, val_accuracy=0.1, lr=0.00098]2.3025859694480895 2.302586299657822 0.1 0.1\n",
            "  9% 279/3000 [34:26<3:39:44,  4.85s/it, loss=2.3, accuracy=0.076, val_loss=2.3, val_accuracy=0.1, lr=0.000979]2.30258646941185 2.302586530447006 0.1 0.1\n",
            " 10% 289/3000 [35:39<3:38:50,  4.84s/it, loss=2.3, accuracy=0.084, val_loss=2.3, val_accuracy=0.1, lr=0.000977]2.3025860772132876 2.3025865136623382 0.1 0.1\n",
            " 10% 299/3000 [36:52<3:37:51,  4.84s/it, loss=2.3, accuracy=0.08, val_loss=2.3, val_accuracy=0.1, lr=0.000976]2.3025859084129334 2.302586503171921 0.1 0.1\n",
            " 10% 309/3000 [38:05<3:36:49,  4.83s/it, loss=2.3, accuracy=0.056, val_loss=2.3, val_accuracy=0.1, lr=0.000974]2.302585500717163 2.3025859850406647 0.1 0.1\n",
            " 11% 319/3000 [39:18<3:36:26,  4.84s/it, loss=2.3, accuracy=0.07, val_loss=2.3, val_accuracy=0.1, lr=0.000972]2.3025858039855955 2.3025859519481657 0.1 0.1\n",
            " 11% 329/3000 [40:31<3:35:41,  4.85s/it, loss=2.3, accuracy=0.082, val_loss=2.3, val_accuracy=0.1, lr=0.000971]2.3025870842933656 2.302586074924469 0.1 0.1\n",
            " 11% 339/3000 [41:44<3:32:21,  4.79s/it, loss=2.3, accuracy=0.072, val_loss=2.3, val_accuracy=0.1, lr=0.000969]2.3025861036777497 2.302586080217362 0.1 0.1\n",
            " 12% 349/3000 [42:56<3:31:03,  4.78s/it, loss=2.3, accuracy=0.076, val_loss=2.3, val_accuracy=0.1, lr=0.000967]2.302585443019867 2.3025859871387477 0.1 0.1\n",
            " 12% 359/3000 [44:08<3:31:37,  4.81s/it, loss=2.3, accuracy=0.082, val_loss=2.3, val_accuracy=0.1, lr=0.000965]2.3025860097408293 2.3025860889434817 0.1 0.1\n",
            " 12% 369/3000 [45:22<3:32:45,  4.85s/it, loss=2.3, accuracy=0.092, val_loss=2.3, val_accuracy=0.1, lr=0.000963]2.30258607006073 2.3025861421585083 0.1 0.1\n",
            " 13% 379/3000 [46:34<3:30:43,  4.82s/it, loss=2.3, accuracy=0.088, val_loss=2.3, val_accuracy=0.1, lr=0.000961]2.3025862050056456 2.3025859663009642 0.1 0.1\n",
            " 13% 389/3000 [47:47<3:29:58,  4.83s/it, loss=2.3, accuracy=0.064, val_loss=2.3, val_accuracy=0.1, lr=0.000959]2.3025862851142884 2.302586002588272 0.1 0.1\n",
            " 13% 399/3000 [49:00<3:29:17,  4.83s/it, loss=2.3, accuracy=0.09, val_loss=2.3, val_accuracy=0.1, lr=0.000957]2.302586496114731 2.3025862132072445 0.1 0.1\n",
            " 14% 409/3000 [50:12<3:27:21,  4.80s/it, loss=2.3, accuracy=0.07, val_loss=2.3, val_accuracy=0.1, lr=0.000955]2.302586693048477 2.3025863498687746 0.1 0.1\n",
            " 14% 419/3000 [51:25<3:27:01,  4.81s/it, loss=2.3, accuracy=0.074, val_loss=2.3, val_accuracy=0.1, lr=0.000953]2.302586473226547 2.302586430501938 0.1 0.1\n",
            " 14% 429/3000 [52:37<3:26:00,  4.81s/it, loss=2.3, accuracy=0.072, val_loss=2.3, val_accuracy=0.1, lr=0.00095]2.3025858500003813 2.302586359500885 0.1 0.1\n",
            " 15% 439/3000 [53:49<3:24:40,  4.80s/it, loss=2.3, accuracy=0.052, val_loss=2.3, val_accuracy=0.1, lr=0.000948]2.3025856800079345 2.3025862384796145 0.1 0.1\n",
            " 15% 449/3000 [55:02<3:24:24,  4.81s/it, loss=2.3, accuracy=0.092, val_loss=2.3, val_accuracy=0.1, lr=0.000946]2.302586014509201 2.3025861421585083 0.1 0.1\n",
            " 15% 459/3000 [56:14<3:22:46,  4.79s/it, loss=2.3, accuracy=0.086, val_loss=2.3, val_accuracy=0.1, lr=0.000943]2.3025860013961794 2.3025860038280483 0.1 0.1\n",
            " 16% 469/3000 [57:27<3:22:42,  4.81s/it, loss=2.3, accuracy=0.094, val_loss=2.3, val_accuracy=0.1, lr=0.000941]2.3025862593650817 2.3025859610557555 0.1 0.1\n",
            " 16% 479/3000 [58:40<3:24:11,  4.86s/it, loss=2.3, accuracy=0.076, val_loss=2.3, val_accuracy=0.1, lr=0.000938]2.302585640907288 2.302585919237137 0.1 0.1\n",
            " 16% 489/3000 [59:53<3:22:22,  4.84s/it, loss=2.3, accuracy=0.074, val_loss=2.3, val_accuracy=0.1, lr=0.000936]2.3025855975151064 2.302585902738571 0.1 0.1\n",
            " 17% 499/3000 [1:01:05<3:21:15,  4.83s/it, loss=2.3, accuracy=0.07, val_loss=2.3, val_accuracy=0.1, lr=0.000933]2.3025863456726072 2.3025859689712522 0.1 0.1\n",
            " 17% 509/3000 [1:02:18<3:20:02,  4.82s/it, loss=2.3, accuracy=0.076, val_loss=2.3, val_accuracy=0.1, lr=0.000931]2.3025863304138183 2.30258603477478 0.1 0.1\n",
            " 17% 519/3000 [1:03:31<3:20:58,  4.86s/it, loss=2.3, accuracy=0.084, val_loss=2.3, val_accuracy=0.1, lr=0.000928]2.302585777044296 2.3025859383106235 0.1 0.1\n",
            " 18% 529/3000 [1:04:44<3:20:07,  4.86s/it, loss=2.3, accuracy=0.07, val_loss=2.3, val_accuracy=0.1, lr=0.000925]2.302585905790329 2.3025859912872315 0.1 0.1\n",
            " 18% 539/3000 [1:05:57<3:18:15,  4.83s/it, loss=2.3, accuracy=0.078, val_loss=2.3, val_accuracy=0.1, lr=0.000922]2.3025861325263977 2.3025860982894897 0.1 0.1\n",
            " 18% 549/3000 [1:07:10<3:18:24,  4.86s/it, loss=2.3, accuracy=0.082, val_loss=2.3, val_accuracy=0.1, lr=0.00092]2.302586218357086 2.302586072826385 0.1 0.1\n",
            " 19% 559/3000 [1:08:23<3:17:04,  4.84s/it, loss=2.3, accuracy=0.072, val_loss=2.3, val_accuracy=0.1, lr=0.000917]2.302586081504822 2.302586023044586 0.1 0.1\n",
            " 19% 569/3000 [1:09:36<3:16:39,  4.85s/it, loss=2.3, accuracy=0.09, val_loss=2.3, val_accuracy=0.1, lr=0.000914]2.3025858066082 2.302586028957367 0.1 0.1\n",
            " 19% 579/3000 [1:10:49<3:17:34,  4.90s/it, loss=2.3, accuracy=0.088, val_loss=2.3, val_accuracy=0.1, lr=0.000911]2.3025866496562957 2.30258617773056 0.1 0.1\n",
            " 20% 589/3000 [1:12:03<3:15:45,  4.87s/it, loss=2.3, accuracy=0.08, val_loss=2.3, val_accuracy=0.1, lr=0.000908]2.3025868768692015 2.302586326599121 0.1 0.1\n",
            " 20% 599/3000 [1:13:16<3:12:52,  4.82s/it, loss=2.3, accuracy=0.092, val_loss=2.3, val_accuracy=0.1, lr=0.000905]2.302585381746292 2.302586159276962 0.1 0.1\n",
            " 20% 609/3000 [1:14:28<3:12:47,  4.84s/it, loss=2.3, accuracy=0.076, val_loss=2.3, val_accuracy=0.1, lr=0.000902]2.302585914373398 2.3025861258506772 0.1 0.1\n",
            " 21% 619/3000 [1:15:41<3:10:56,  4.81s/it, loss=2.3, accuracy=0.06, val_loss=2.3, val_accuracy=0.1, lr=0.000899]2.302585408449173 2.3025860462188716 0.1 0.1\n",
            " 21% 629/3000 [1:16:54<3:10:07,  4.81s/it, loss=2.3, accuracy=0.084, val_loss=2.3, val_accuracy=0.1, lr=0.000895]2.3025858697891235 2.3025858902454375 0.1 0.1\n",
            " 21% 639/3000 [1:18:07<3:10:42,  4.85s/it, loss=2.3, accuracy=0.074, val_loss=2.3, val_accuracy=0.1, lr=0.000892]2.3025859205722807 2.302585698986053 0.1 0.1\n",
            " 22% 649/3000 [1:19:20<3:10:00,  4.85s/it, loss=2.3, accuracy=0.076, val_loss=2.3, val_accuracy=0.1, lr=0.000889]2.302585829973221 2.302585788631439 0.1 0.1\n",
            " 22% 659/3000 [1:20:34<3:09:27,  4.86s/it, loss=2.3, accuracy=0.078, val_loss=2.3, val_accuracy=0.1, lr=0.000886]2.3025853912830354 2.3025856840133665 0.1 0.1\n",
            " 22% 669/3000 [1:21:48<3:09:17,  4.87s/it, loss=2.3, accuracy=0.094, val_loss=2.3, val_accuracy=0.1, lr=0.000882]2.3025867371559143 2.302585949754715 0.1 0.1\n",
            " 23% 679/3000 [1:23:01<3:07:55,  4.86s/it, loss=2.3, accuracy=0.07, val_loss=2.3, val_accuracy=0.1, lr=0.000879]2.3025856029987337 2.302585896396637 0.1 0.1\n",
            " 23% 689/3000 [1:24:14<3:05:35,  4.82s/it, loss=2.3, accuracy=0.086, val_loss=2.3, val_accuracy=0.1, lr=0.000875]2.302585729122162 2.3025858581066134 0.1 0.1\n",
            " 23% 699/3000 [1:25:27<3:05:00,  4.82s/it, loss=2.3, accuracy=0.072, val_loss=2.3, val_accuracy=0.1, lr=0.000872]2.302586440086365 2.3025859801292423 0.1 0.1\n",
            " 24% 709/3000 [1:26:40<3:04:14,  4.83s/it, loss=2.3, accuracy=0.062, val_loss=2.3, val_accuracy=0.1, lr=0.000868]2.3025861339569094 2.302586128664017 0.1 0.1\n",
            " 24% 719/3000 [1:27:52<3:02:15,  4.79s/it, loss=2.3, accuracy=0.078, val_loss=2.3, val_accuracy=0.1, lr=0.000865]2.3025856223106382 2.3025859056949614 0.1 0.1\n",
            " 24% 729/3000 [1:29:05<3:03:06,  4.84s/it, loss=2.3, accuracy=0.048, val_loss=2.3, val_accuracy=0.1, lr=0.000861]2.302585891008377 2.3025859632968904 0.1 0.1\n",
            " 25% 739/3000 [1:30:18<3:01:25,  4.81s/it, loss=2.3, accuracy=0.084, val_loss=2.3, val_accuracy=0.1, lr=0.000858]2.3025864493846893 2.302586107349396 0.1 0.1\n",
            " 25% 749/3000 [1:31:30<3:00:41,  4.82s/it, loss=2.3, accuracy=0.088, val_loss=2.3, val_accuracy=0.1, lr=0.000854]2.3025856137275698 2.3025859420776364 0.1 0.1\n",
            " 25% 759/3000 [1:32:43<3:00:20,  4.83s/it, loss=2.3, accuracy=0.072, val_loss=2.3, val_accuracy=0.1, lr=0.00085]2.302585811376572 2.3025858775615693 0.1 0.1\n",
            " 26% 769/3000 [1:33:56<2:59:21,  4.82s/it, loss=2.3, accuracy=0.084, val_loss=2.3, val_accuracy=0.1, lr=0.000846]2.3025860137939453 2.3025859558582304 0.1 0.1\n",
            " 26% 779/3000 [1:35:09<2:59:57,  4.86s/it, loss=2.3, accuracy=0.082, val_loss=2.3, val_accuracy=0.1, lr=0.000843]2.3025859780311584 2.302585973262787 0.1 0.1\n",
            " 26% 789/3000 [1:36:22<2:58:19,  4.84s/it, loss=2.3, accuracy=0.074, val_loss=2.3, val_accuracy=0.1, lr=0.000839]2.3025860748291014 2.302585898351669 0.1 0.1\n",
            " 27% 799/3000 [1:37:35<2:56:27,  4.81s/it, loss=2.3, accuracy=0.076, val_loss=2.3, val_accuracy=0.1, lr=0.000835]2.302585916519165 2.3025859589099884 0.1 0.1\n",
            " 27% 809/3000 [1:38:47<2:56:20,  4.83s/it, loss=2.3, accuracy=0.066, val_loss=2.3, val_accuracy=0.1, lr=0.000831]2.3025855050086976 2.3025858976364133 0.1 0.1\n",
            " 27% 819/3000 [1:40:00<2:55:37,  4.83s/it, loss=2.3, accuracy=0.098, val_loss=2.3, val_accuracy=0.1, lr=0.000827]2.3025857121944426 2.3025858373165127 0.1 0.1\n",
            " 28% 829/3000 [1:41:13<2:55:45,  4.86s/it, loss=2.3, accuracy=0.08, val_loss=2.3, val_accuracy=0.1, lr=0.000823]2.3025855062007903 2.3025857429504395 0.1 0.1\n",
            " 28% 839/3000 [1:42:27<2:54:13,  4.84s/it, loss=2.3, accuracy=0.082, val_loss=2.3, val_accuracy=0.1, lr=0.000819]2.3025862536430357 2.302585778713226 0.1 0.1\n",
            " 28% 849/3000 [1:43:40<2:52:51,  4.82s/it, loss=2.3, accuracy=0.08, val_loss=2.3, val_accuracy=0.1, lr=0.000815]2.3025854222774504 2.3025856798648836 0.1 0.1\n",
            " 29% 859/3000 [1:44:53<2:51:39,  4.81s/it, loss=2.3, accuracy=0.08, val_loss=2.3, val_accuracy=0.1, lr=0.000811]2.3025859282016756 2.302585764503479 0.1 0.1\n",
            " 29% 869/3000 [1:46:06<2:52:33,  4.86s/it, loss=2.3, accuracy=0.072, val_loss=2.3, val_accuracy=0.1, lr=0.000807]2.3025855596065523 2.302585733985901 0.1 0.1\n",
            " 29% 879/3000 [1:47:19<2:49:51,  4.80s/it, loss=2.3, accuracy=0.08, val_loss=2.3, val_accuracy=0.1, lr=0.000803]2.3025866599082945 2.3025859647274016 0.1 0.1\n",
            " 30% 889/3000 [1:48:32<2:49:05,  4.81s/it, loss=2.3, accuracy=0.082, val_loss=2.3, val_accuracy=0.1, lr=0.000799]2.3025856897830965 2.3025858519554143 0.1 0.1\n",
            " 30% 899/3000 [1:49:45<2:48:28,  4.81s/it, loss=2.3, accuracy=0.056, val_loss=2.3, val_accuracy=0.1, lr=0.000794]2.3025857982635496 2.302585927152634 0.1 0.1\n",
            " 30% 909/3000 [1:50:58<2:48:40,  4.84s/it, loss=2.3, accuracy=0.088, val_loss=2.3, val_accuracy=0.1, lr=0.00079]2.302585828065872 2.302585907125473 0.1 0.1\n",
            " 31% 919/3000 [1:52:11<2:46:40,  4.81s/it, loss=2.3, accuracy=0.086, val_loss=2.3, val_accuracy=0.1, lr=0.000786]2.302586048364639 2.30258600487709 0.1 0.1\n",
            " 31% 929/3000 [1:53:24<2:47:37,  4.86s/it, loss=2.3, accuracy=0.07, val_loss=2.3, val_accuracy=0.1, lr=0.000781]2.3025858359336855 2.302585840082169 0.1 0.1\n",
            " 31% 939/3000 [1:54:38<2:46:17,  4.84s/it, loss=2.3, accuracy=0.082, val_loss=2.3, val_accuracy=0.1, lr=0.000777]2.302585656642914 2.302585833454132 0.1 0.1\n",
            " 32% 949/3000 [1:55:52<2:45:20,  4.84s/it, loss=2.3, accuracy=0.08, val_loss=2.3, val_accuracy=0.1, lr=0.000773]2.3025855956077574 2.302585792922973 0.1 0.1\n",
            " 32% 959/3000 [1:57:05<2:43:48,  4.82s/it, loss=2.3, accuracy=0.09, val_loss=2.3, val_accuracy=0.1, lr=0.000768]2.302585844993591 2.3025857963085175 0.1 0.1\n",
            " 32% 969/3000 [1:58:18<2:43:16,  4.82s/it, loss=2.3, accuracy=0.082, val_loss=2.3, val_accuracy=0.1, lr=0.000764]2.3025863695144655 2.302585860538483 0.1 0.1\n",
            " 33% 979/3000 [1:59:32<2:43:32,  4.86s/it, loss=2.3, accuracy=0.078, val_loss=2.3, val_accuracy=0.1, lr=0.000759]2.3025859384536744 2.3025858810424804 0.1 0.1\n",
            " 33% 989/3000 [2:00:45<2:41:47,  4.83s/it, loss=2.3, accuracy=0.072, val_loss=2.3, val_accuracy=0.1, lr=0.000755]2.3025857734680177 2.3025859044075014 0.1 0.1\n",
            " 33% 999/3000 [2:01:58<2:40:34,  4.81s/it, loss=2.3, accuracy=0.074, val_loss=2.3, val_accuracy=0.1, lr=0.00075]2.3025857882499694 2.3025859429359437 0.1 0.1\n",
            " 34% 1009/3000 [2:03:11<2:40:11,  4.83s/it, loss=2.3, accuracy=0.08, val_loss=2.3, val_accuracy=0.1, lr=0.000746]2.302585344314575 2.3025858428001404 0.1 0.1\n",
            " 34% 1019/3000 [2:04:24<2:39:14,  4.82s/it, loss=2.3, accuracy=0.086, val_loss=2.3, val_accuracy=0.1, lr=0.000741]2.302585648775101 2.3025856986522677 0.1 0.1\n",
            " 34% 1029/3000 [2:05:37<2:39:22,  4.85s/it, loss=2.3, accuracy=0.076, val_loss=2.3, val_accuracy=0.1, lr=0.000737]2.302585888147354 2.3025856885910034 0.1 0.1\n",
            " 35% 1039/3000 [2:06:50<2:37:54,  4.83s/it, loss=2.3, accuracy=0.062, val_loss=2.3, val_accuracy=0.1, lr=0.000732]2.3025852196216583 2.3025855778217315 0.1 0.1\n",
            " 35% 1049/3000 [2:08:03<2:37:12,  4.83s/it, loss=2.3, accuracy=0.086, val_loss=2.3, val_accuracy=0.1, lr=0.000727]2.3025858681201936 2.302585593795776 0.1 0.1\n",
            " 35% 1059/3000 [2:09:17<2:35:59,  4.82s/it, loss=2.3, accuracy=0.088, val_loss=2.3, val_accuracy=0.1, lr=0.000723]2.3025863115787506 2.3025857872486113 0.1 0.1\n",
            " 36% 1069/3000 [2:10:30<2:34:55,  4.81s/it, loss=2.3, accuracy=0.072, val_loss=2.3, val_accuracy=0.1, lr=0.000718]2.3025854456424715 2.302585746622085 0.1 0.1\n",
            " 36% 1079/3000 [2:11:44<2:35:13,  4.85s/it, loss=2.3, accuracy=0.056, val_loss=2.3, val_accuracy=0.1, lr=0.000713]2.3025857558250427 2.302585720157623 0.1 0.1\n",
            " 36% 1089/3000 [2:12:57<2:34:29,  4.85s/it, loss=2.3, accuracy=0.072, val_loss=2.3, val_accuracy=0.1, lr=0.000709]2.302585869550705 2.3025858501434326 0.1 0.1\n",
            " 37% 1099/3000 [2:14:10<2:33:32,  4.85s/it, loss=2.3, accuracy=0.086, val_loss=2.3, val_accuracy=0.1, lr=0.000704]2.3025861842632294 2.3025859133720403 0.1 0.1\n",
            " 37% 1109/3000 [2:15:24<2:32:12,  4.83s/it, loss=2.3, accuracy=0.086, val_loss=2.3, val_accuracy=0.1, lr=0.000699]2.302585633277893 2.302585777711868 0.1 0.1\n",
            " 37% 1119/3000 [2:16:37<2:31:58,  4.85s/it, loss=2.3, accuracy=0.084, val_loss=2.3, val_accuracy=0.1, lr=0.000694]2.3025858383178712 2.302585856246948 0.1 0.1\n",
            " 38% 1129/3000 [2:17:51<2:30:44,  4.83s/it, loss=2.3, accuracy=0.084, val_loss=2.3, val_accuracy=0.1, lr=0.000689]2.302585503578186 2.3025858057975768 0.1 0.1\n",
            " 38% 1139/3000 [2:19:04<2:28:53,  4.80s/it, loss=2.3, accuracy=0.088, val_loss=2.3, val_accuracy=0.1, lr=0.000685]2.3025858063697813 2.3025857931613922 0.1 0.1\n",
            " 38% 1149/3000 [2:20:16<2:27:05,  4.77s/it, loss=2.3, accuracy=0.082, val_loss=2.3, val_accuracy=0.1, lr=0.00068]2.3025856232643127 2.3025856809616085 0.1 0.1\n",
            " 39% 1159/3000 [2:21:28<2:27:07,  4.79s/it, loss=2.3, accuracy=0.094, val_loss=2.3, val_accuracy=0.1, lr=0.000675]2.302585587978363 2.302585671901703 0.1 0.1\n",
            " 39% 1169/3000 [2:22:40<2:26:12,  4.79s/it, loss=2.3, accuracy=0.078, val_loss=2.3, val_accuracy=0.1, lr=0.00067]2.3025854778289796 2.302585599803925 0.1 0.1\n",
            " 39% 1179/3000 [2:23:52<2:25:32,  4.80s/it, loss=2.3, accuracy=0.072, val_loss=2.3, val_accuracy=0.1, lr=0.000665]2.302585259914398 2.302585551071167 0.1 0.1\n",
            " 40% 1189/3000 [2:25:04<2:23:49,  4.77s/it, loss=2.3, accuracy=0.074, val_loss=2.3, val_accuracy=0.1, lr=0.00066]2.302585349559784 2.3025854597091673 0.1 0.1\n",
            " 40% 1199/3000 [2:26:16<2:25:03,  4.83s/it, loss=2.3, accuracy=0.08, val_loss=2.3, val_accuracy=0.1, lr=0.000655]2.3025861403942107 2.302585563135147 0.1 0.1\n",
            " 40% 1209/3000 [2:27:30<2:24:46,  4.85s/it, loss=2.3, accuracy=0.072, val_loss=2.3, val_accuracy=0.1, lr=0.00065]2.302585736274719 2.3025855927944177 0.1 0.1\n",
            " 41% 1219/3000 [2:28:42<2:22:50,  4.81s/it, loss=2.3, accuracy=0.076, val_loss=2.3, val_accuracy=0.1, lr=0.000645]2.302585572719574 2.302585611772537 0.1 0.1\n",
            " 41% 1229/3000 [2:29:55<2:22:38,  4.83s/it, loss=2.3, accuracy=0.062, val_loss=2.3, val_accuracy=0.1, lr=0.00064]2.3025857889652253 2.3025857175827027 0.1 0.1\n",
            " 41% 1239/3000 [2:31:07<2:20:47,  4.80s/it, loss=2.3, accuracy=0.088, val_loss=2.3, val_accuracy=0.1, lr=0.000635]2.30258562874794 2.3025857734203337 0.1 0.1\n",
            " 42% 1249/3000 [2:32:19<2:19:44,  4.79s/it, loss=2.3, accuracy=0.062, val_loss=2.3, val_accuracy=0.1, lr=0.00063]2.302585157394409 2.302585576820374 0.1 0.1\n",
            " 42% 1259/3000 [2:33:32<2:19:40,  4.81s/it, loss=2.3, accuracy=0.076, val_loss=2.3, val_accuracy=0.1, lr=0.000625]2.3025854115486144 2.3025855118751526 0.1 0.1\n",
            " 42% 1269/3000 [2:34:45<2:19:44,  4.84s/it, loss=2.3, accuracy=0.07, val_loss=2.3, val_accuracy=0.1, lr=0.00062]2.3025856738090513 2.3025855320930484 0.1 0.1\n",
            " 43% 1279/3000 [2:35:57<2:17:18,  4.79s/it, loss=2.3, accuracy=0.078, val_loss=2.3, val_accuracy=0.1, lr=0.000615]2.3025857572555544 2.302585525751114 0.1 0.1\n",
            " 43% 1289/3000 [2:37:10<2:17:30,  4.82s/it, loss=2.3, accuracy=0.088, val_loss=2.3, val_accuracy=0.1, lr=0.00061]2.3025857298374177 2.3025855459690097 0.1 0.1\n",
            " 43% 1299/3000 [2:38:22<2:17:01,  4.83s/it, loss=2.3, accuracy=0.062, val_loss=2.3, val_accuracy=0.1, lr=0.000604]2.302585883617401 2.302585691213608 0.1 0.1\n",
            " 44% 1309/3000 [2:39:35<2:15:34,  4.81s/it, loss=2.3, accuracy=0.084, val_loss=2.3, val_accuracy=0.1, lr=0.000599]2.302585343122482 2.3025856775283815 0.1 0.1\n",
            " 44% 1319/3000 [2:40:47<2:15:11,  4.83s/it, loss=2.3, accuracy=0.086, val_loss=2.3, val_accuracy=0.1, lr=0.000594]2.3025857005119326 2.3025856828689575 0.1 0.1\n",
            " 44% 1329/3000 [2:42:00<2:14:17,  4.82s/it, loss=2.3, accuracy=0.078, val_loss=2.3, val_accuracy=0.1, lr=0.000589]2.3025854461193083 2.3025856206417084 0.1 0.1\n",
            " 45% 1339/3000 [2:43:12<2:14:16,  4.85s/it, loss=2.3, accuracy=0.086, val_loss=2.3, val_accuracy=0.1, lr=0.000584]2.3025855391025543 2.3025855824947357 0.1 0.1\n",
            " 45% 1349/3000 [2:44:24<2:11:34,  4.78s/it, loss=2.3, accuracy=0.082, val_loss=2.3, val_accuracy=0.1, lr=0.000579]2.302585530757904 2.3025855119228362 0.1 0.1\n",
            " 45% 1359/3000 [2:45:36<2:11:22,  4.80s/it, loss=2.3, accuracy=0.094, val_loss=2.3, val_accuracy=0.1, lr=0.000574]2.302585290670395 2.302585501432419 0.1 0.1\n",
            " 46% 1369/3000 [2:46:48<2:10:35,  4.80s/it, loss=2.3, accuracy=0.082, val_loss=2.3, val_accuracy=0.1, lr=0.000568]2.302585528373718 2.302585467004776 0.1 0.1\n",
            " 46% 1379/3000 [2:48:00<2:08:37,  4.76s/it, loss=2.3, accuracy=0.072, val_loss=2.3, val_accuracy=0.1, lr=0.000563]2.302585418701172 2.3025854615211485 0.1 0.1\n",
            " 46% 1389/3000 [2:49:12<2:08:44,  4.79s/it, loss=2.3, accuracy=0.07, val_loss=2.3, val_accuracy=0.1, lr=0.000558]2.3025853366851807 2.302585421037674 0.1 0.1\n",
            " 47% 1399/3000 [2:50:24<2:07:08,  4.76s/it, loss=2.3, accuracy=0.096, val_loss=2.3, val_accuracy=0.1, lr=0.000553]2.302585265159607 2.3025853679180144 0.1 0.1\n",
            " 47% 1409/3000 [2:51:36<2:06:41,  4.78s/it, loss=2.3, accuracy=0.082, val_loss=2.3, val_accuracy=0.1, lr=0.000548]2.302585563659668 2.3025854225158695 0.1 0.1\n",
            " 47% 1419/3000 [2:52:47<2:06:16,  4.79s/it, loss=2.3, accuracy=0.08, val_loss=2.3, val_accuracy=0.1, lr=0.000542]2.30258558511734 2.3025854338645937 0.1 0.1\n",
            " 48% 1429/3000 [2:53:59<2:05:13,  4.78s/it, loss=2.3, accuracy=0.086, val_loss=2.3, val_accuracy=0.1, lr=0.000537]2.3025857086181643 2.3025854918479918 0.1 0.1\n",
            " 48% 1439/3000 [2:55:11<2:04:30,  4.79s/it, loss=2.3, accuracy=0.09, val_loss=2.3, val_accuracy=0.1, lr=0.000532]2.302585374593735 2.3025854994297026 0.1 0.1\n",
            " 48% 1449/3000 [2:56:23<2:02:52,  4.75s/it, loss=2.3, accuracy=0.088, val_loss=2.3, val_accuracy=0.1, lr=0.000527]2.3025850558280947 2.3025854575634 0.1 0.1\n",
            " 49% 1459/3000 [2:57:35<2:02:22,  4.76s/it, loss=2.3, accuracy=0.078, val_loss=2.3, val_accuracy=0.1, lr=0.000521]2.302585509300232 2.3025854466915128 0.1 0.1\n",
            " 49% 1469/3000 [2:58:46<2:01:36,  4.77s/it, loss=2.3, accuracy=0.086, val_loss=2.3, val_accuracy=0.1, lr=0.000516]2.3025855195522307 2.3025854335784914 0.1 0.1\n",
            " 49% 1479/3000 [2:59:58<2:01:05,  4.78s/it, loss=2.3, accuracy=0.074, val_loss=2.3, val_accuracy=0.1, lr=0.000511]2.3025853152275086 2.30258535490036 0.1 0.1\n",
            " 50% 1489/3000 [3:01:10<2:00:37,  4.79s/it, loss=2.3, accuracy=0.072, val_loss=2.3, val_accuracy=0.1, lr=0.000506]2.302585304260254 2.3025853408336636 0.1 0.1\n",
            " 50% 1499/3000 [3:02:22<1:59:55,  4.79s/it, loss=2.3, accuracy=0.078, val_loss=2.3, val_accuracy=0.1, lr=0.000501]2.302585418224335 2.3025854133129124 0.1 0.1\n",
            " 50% 1509/3000 [3:03:34<1:58:40,  4.78s/it, loss=2.3, accuracy=0.076, val_loss=2.3, val_accuracy=0.1, lr=0.000495]2.3025852761268615 2.302585366678238 0.1 0.1\n",
            " 51% 1519/3000 [3:04:46<1:57:55,  4.78s/it, loss=2.3, accuracy=0.082, val_loss=2.3, val_accuracy=0.1, lr=0.00049]2.302585279941559 2.302585318756104 0.1 0.1\n",
            " 51% 1529/3000 [3:05:58<1:56:45,  4.76s/it, loss=2.3, accuracy=0.082, val_loss=2.3, val_accuracy=0.1, lr=0.000485]2.302585188150406 2.302585293340683 0.1 0.1\n",
            " 51% 1539/3000 [3:07:10<1:58:05,  4.85s/it, loss=2.3, accuracy=0.06, val_loss=2.3, val_accuracy=0.1, lr=0.00048]2.302585342168808 2.3025853009223938 0.1 0.1\n",
            " 52% 1549/3000 [3:08:22<1:55:35,  4.78s/it, loss=2.3, accuracy=0.08, val_loss=2.3, val_accuracy=0.1, lr=0.000474]2.3025853090286255 2.302585279083252 0.1 0.1\n",
            " 52% 1559/3000 [3:09:34<1:54:50,  4.78s/it, loss=2.3, accuracy=0.08, val_loss=2.3, val_accuracy=0.1, lr=0.000469]2.3025851459503173 2.302585253047943 0.1 0.1\n",
            " 52% 1569/3000 [3:10:46<1:54:19,  4.79s/it, loss=2.3, accuracy=0.076, val_loss=2.3, val_accuracy=0.1, lr=0.000464]2.302585337638855 2.3025852645874023 0.1 0.1\n",
            " 53% 1579/3000 [3:11:59<1:54:42,  4.84s/it, loss=2.3, accuracy=0.08, val_loss=2.3, val_accuracy=0.1, lr=0.000459]2.3025854587554933 2.3025853187084198 0.1 0.1\n",
            " 53% 1589/3000 [3:13:12<1:53:12,  4.81s/it, loss=2.3, accuracy=0.08, val_loss=2.3, val_accuracy=0.1, lr=0.000453]2.3025856075286866 2.3025853717803955 0.1 0.1\n",
            " 53% 1599/3000 [3:14:26<1:53:15,  4.85s/it, loss=2.3, accuracy=0.074, val_loss=2.3, val_accuracy=0.1, lr=0.000448]2.3025854284763336 2.3025853956699374 0.1 0.1\n",
            " 54% 1609/3000 [3:15:39<1:52:58,  4.87s/it, loss=2.3, accuracy=0.078, val_loss=2.3, val_accuracy=0.1, lr=0.000443]2.3025852229595185 2.302585411071777 0.1 0.1\n",
            " 54% 1619/3000 [3:16:52<1:51:32,  4.85s/it, loss=2.3, accuracy=0.088, val_loss=2.3, val_accuracy=0.1, lr=0.000438]2.3025853383541106 2.302585411214829 0.1 0.1\n",
            " 54% 1629/3000 [3:18:05<1:50:44,  4.85s/it, loss=2.3, accuracy=0.068, val_loss=2.3, val_accuracy=0.1, lr=0.000433]2.3025853183269502 2.30258538312912 0.1 0.1\n",
            " 55% 1639/3000 [3:19:18<1:49:06,  4.81s/it, loss=2.3, accuracy=0.086, val_loss=2.3, val_accuracy=0.1, lr=0.000427]2.3025854272842405 2.302585347080231 0.1 0.1\n",
            " 55% 1649/3000 [3:20:31<1:48:45,  4.83s/it, loss=2.3, accuracy=0.094, val_loss=2.3, val_accuracy=0.1, lr=0.000422]2.302585375070572 2.302585336399079 0.1 0.1\n",
            " 55% 1659/3000 [3:21:44<1:47:44,  4.82s/it, loss=2.3, accuracy=0.062, val_loss=2.3, val_accuracy=0.1, lr=0.000417]2.3025852782726286 2.3025853474617004 0.1 0.1\n",
            " 56% 1669/3000 [3:22:56<1:45:37,  4.76s/it, loss=2.3, accuracy=0.07, val_loss=2.3, val_accuracy=0.1, lr=0.000412]2.3025852546691894 2.302585330724716 0.1 0.1\n",
            " 56% 1679/3000 [3:24:07<1:45:34,  4.79s/it, loss=2.3, accuracy=0.082, val_loss=2.3, val_accuracy=0.1, lr=0.000407]2.3025851814746856 2.302585303354263 0.1 0.1\n",
            " 56% 1689/3000 [3:25:20<1:45:34,  4.83s/it, loss=2.3, accuracy=0.066, val_loss=2.3, val_accuracy=0.1, lr=0.000402]2.302585137605667 2.302585245418549 0.1 0.1\n",
            " 57% 1699/3000 [3:26:32<1:44:09,  4.80s/it, loss=2.3, accuracy=0.066, val_loss=2.3, val_accuracy=0.1, lr=0.000397]2.302585461854935 2.302585262775421 0.1 0.1\n",
            " 57% 1709/3000 [3:27:45<1:43:48,  4.82s/it, loss=2.3, accuracy=0.078, val_loss=2.3, val_accuracy=0.1, lr=0.000391]2.3025851933956147 2.302585245800018 0.1 0.1\n",
            " 57% 1719/3000 [3:28:57<1:42:35,  4.81s/it, loss=2.3, accuracy=0.068, val_loss=2.3, val_accuracy=0.1, lr=0.000386]2.302585448265076 2.3025852845191954 0.1 0.1\n",
            " 58% 1729/3000 [3:30:10<1:41:37,  4.80s/it, loss=2.3, accuracy=0.072, val_loss=2.3, val_accuracy=0.1, lr=0.000381]2.302585312843323 2.302585310792923 0.1 0.1\n",
            " 58% 1739/3000 [3:31:22<1:40:23,  4.78s/it, loss=2.3, accuracy=0.068, val_loss=2.3, val_accuracy=0.1, lr=0.000376]2.3025850503444674 2.302585293340683 0.1 0.1\n",
            " 58% 1749/3000 [3:32:34<1:39:43,  4.78s/it, loss=2.3, accuracy=0.076, val_loss=2.3, val_accuracy=0.1, lr=0.000371]2.3025851962566377 2.3025852402210236 0.1 0.1\n",
            " 59% 1759/3000 [3:33:46<1:38:35,  4.77s/it, loss=2.3, accuracy=0.078, val_loss=2.3, val_accuracy=0.1, lr=0.000366]2.302585262775421 2.302585254096985 0.1 0.1\n",
            " 59% 1769/3000 [3:34:58<1:37:46,  4.77s/it, loss=2.3, accuracy=0.088, val_loss=2.3, val_accuracy=0.1, lr=0.000361]2.3025853493213653 2.302585234308243 0.1 0.1\n",
            " 59% 1779/3000 [3:36:10<1:37:21,  4.78s/it, loss=2.3, accuracy=0.064, val_loss=2.3, val_accuracy=0.1, lr=0.000356]2.3025851953029632 2.302585210800171 0.1 0.1\n",
            " 60% 1789/3000 [3:37:22<1:36:44,  4.79s/it, loss=2.3, accuracy=0.074, val_loss=2.3, val_accuracy=0.1, lr=0.000351]2.3025855691432953 2.3025853145599364 0.1 0.1\n",
            " 60% 1799/3000 [3:38:33<1:35:18,  4.76s/it, loss=2.3, accuracy=0.084, val_loss=2.3, val_accuracy=0.1, lr=0.000346]2.3025851356983185 2.3025853024482728 0.1 0.1\n",
            " 60% 1809/3000 [3:39:45<1:34:50,  4.78s/it, loss=2.3, accuracy=0.07, val_loss=2.3, val_accuracy=0.1, lr=0.000341]2.302585161924362 2.302585282278061 0.1 0.1\n",
            " 61% 1819/3000 [3:40:57<1:33:41,  4.76s/it, loss=2.3, accuracy=0.086, val_loss=2.3, val_accuracy=0.1, lr=0.000336]2.3025855875015258 2.302585329914093 0.1 0.1\n",
            " 61% 1829/3000 [3:42:09<1:32:43,  4.75s/it, loss=2.3, accuracy=0.086, val_loss=2.3, val_accuracy=0.1, lr=0.000331]2.302585116624832 2.3025853141784665 0.1 0.1\n",
            " 61% 1839/3000 [3:43:20<1:31:56,  4.75s/it, loss=2.3, accuracy=0.074, val_loss=2.3, val_accuracy=0.1, lr=0.000326]2.3025852372646334 2.3025852478027344 0.1 0.1\n",
            " 62% 1849/3000 [3:44:32<1:31:19,  4.76s/it, loss=2.3, accuracy=0.066, val_loss=2.3, val_accuracy=0.1, lr=0.000321]2.302585352420807 2.302585291147232 0.1 0.1\n",
            " 62% 1859/3000 [3:45:44<1:30:45,  4.77s/it, loss=2.3, accuracy=0.07, val_loss=2.3, val_accuracy=0.1, lr=0.000316]2.3025851640701296 2.302585291576386 0.1 0.1\n",
            " 62% 1869/3000 [3:46:55<1:30:40,  4.81s/it, loss=2.3, accuracy=0.082, val_loss=2.3, val_accuracy=0.1, lr=0.000312]2.3025851871967316 2.302585211515427 0.1 0.1\n",
            " 63% 1878/3000 [3:48:03<1:32:08,  4.93s/it, loss=2.3, accuracy=0.096, val_loss=2.3, val_accuracy=0.1, lr=0.000307]"
          ]
        }
      ],
      "source": [
        "!python scripts/train.py cifair10 \\\n",
        "    --architecture alexnet \\\n",
        "    --target-size 227 \\\n",
        "    --normalize \\\n",
        "    --rand-shift 4 \\\n",
        "    --hflip \\\n",
        "    --epochs 3000 \\\n",
        "    --batch-size 10 \\\n",
        "    --lr 0.001 \\\n",
        "    --weight-decay 0.01 \\\n",
        "    --eval-interval 10 \\\n",
        "    --history /content/drive/MyDrive/Homework2/al2.json \\\n",
        "    --save /content/drive/MyDrive/Homework2/models/al2.pth  "
      ]
    },
    {
      "cell_type": "code",
      "execution_count": null,
      "metadata": {
        "id": "z4kqz_fOmDDp"
      },
      "outputs": [],
      "source": [
        "from google.colab import drive\n",
        "drive.mount('/content/drive')"
      ]
    },
    {
      "cell_type": "markdown",
      "metadata": {
        "id": "nHs3SmCY3xwa"
      },
      "source": [
        "Visualize the results using the script plot_training_history.py.\n",
        "Use the command `%run` instead of `!python` to display the plots.\n",
        "\n"
      ]
    },
    {
      "cell_type": "code",
      "execution_count": null,
      "metadata": {
        "id": "u4ddmwj13978"
      },
      "outputs": [],
      "source": [
        "%run scripts/plot_training_history.py /content/drive/MyDrive/Homework2/spb.json"
      ]
    },
    {
      "cell_type": "markdown",
      "metadata": {
        "id": "5iOvTqfwJckU"
      },
      "source": [
        "A strong baseline (58.22% Test Accuracy) is obtainable by running the following snippet. The expected training time is around 2 hours.\n",
        "\n"
      ]
    },
    {
      "cell_type": "code",
      "execution_count": null,
      "metadata": {
        "id": "hNSxoOfGKv7i"
      },
      "outputs": [],
      "source": [
        "# python scripts/train.py cifair10 \\\n",
        "#     --architecture wrn-16-8 \\\n",
        "#     --rand-shift 4 \\\n",
        "#     --epochs 500 \\\n",
        "#     --batch-size 10 \\\n",
        "#     --lr 4.55e-3 \\\n",
        "#     --weight-decay 5.29e-3 \\\n",
        "#     --eval-interval 10"
      ]
    }
  ],
  "metadata": {
    "accelerator": "GPU",
    "colab": {
      "collapsed_sections": [],
      "name": "Homework2.ipynb",
      "provenance": []
    },
    "kernelspec": {
      "display_name": "Python 3",
      "name": "python3"
    },
    "language_info": {
      "name": "python"
    }
  },
  "nbformat": 4,
  "nbformat_minor": 0
}